import matplotlib.pyplot as plt
import pandas as pd
import numpy as np
%matplotlib inline


data = pd.read_csv('2021_corona.csv') 
data.Sentiment_Analysis.value_counts().plot(kind='bar',title="Sentiment Analysis")

print((data['Sentiment_Analysis'].values == 1).sum())
print((data['Sentiment_Analysis'].values == -1).sum())
print((data['Sentiment_Analysis'].values == 0).sum())

import pandas as pd

data = pd.read_csv('2021_corona.csv') 

species=data[["Sentiment_Analysis"]].values

from sklearn.feature_extraction.text import TfidfVectorizer
from sklearn.decomposition import TruncatedSVD
vectorizer=TfidfVectorizer(analyzer="word",lowercase=True)
svd = TruncatedSVD(n_components=100)
X_tfidf = vectorizer.fit_transform(data.iloc[:,0].astype(str))
X_svd = svd.fit_transform(X_tfidf)
a = X_svd


from sklearn.model_selection import train_test_split
x_train, x_test, y_train, y_test = train_test_split(a,species,test_size=0.25,random_state=0)

from sklearn.naive_bayes import GaussianNB

gnb=GaussianNB()

gnb.fit(x_train, y_train.ravel())

result=gnb.predict(x_test)

from sklearn.metrics import confusion_matrix
cm=confusion_matrix(y_test,result)
print(cm)

from sklearn.metrics import accuracy_score,classification_report
accuarcy=accuracy_score(y_test,result)
print(accuarcy)

print(classification_report(y_test,result))

import pandas as pd

data = pd.read_csv('2021_corona.csv') 

label=data[["Sentiment_Analysis"]].values

features=data[["Description"]]

from sklearn.feature_extraction.text import TfidfVectorizer
vectorizer=TfidfVectorizer(analyzer="word",lowercase=True)
sentence_train_vector=vectorizer.fit_transform(data.iloc[:,0].astype(str))

features=sentence_train_vector

from sklearn.model_selection import train_test_split
x_train, x_test, y_train, y_test = train_test_split(features,label,test_size=0.25,random_state=0)

from sklearn.svm import SVC
svc=SVC(kernel='poly')
svc.fit(x_train,y_train)
result=svc.predict(x_test)

from sklearn.metrics import confusion_matrix 
cm=confusion_matrix(y_test,result)
print(cm)

from sklearn.metrics import accuracy_score,classification_report
accuracy=accuracy_score(y_test,result)
print(accuracy)

print(classification_report(y_test,result))
